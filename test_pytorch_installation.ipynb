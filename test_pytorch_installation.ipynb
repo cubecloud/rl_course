{
 "cells": [
  {
   "cell_type": "code",
   "execution_count": 1,
   "id": "b0abe259-0eba-4ae2-86ac-4d09e1f980cf",
   "metadata": {},
   "outputs": [
    {
     "name": "stdout",
     "output_type": "stream",
     "text": [
      "tensor([[0.9917, 0.9778, 0.6223],\n",
      "        [0.0466, 0.4213, 0.8080],\n",
      "        [0.2356, 0.9842, 0.0953],\n",
      "        [0.5787, 0.2002, 0.1323],\n",
      "        [0.0106, 0.9052, 0.5012]])\n"
     ]
    }
   ],
   "source": [
    "import torch\n",
    "x = torch.rand(5, 3)\n",
    "print(x)\n"
   ]
  }
 ],
 "metadata": {
  "kernelspec": {
   "display_name": "Python [conda env:rl-base]",
   "language": "python",
   "name": "conda-env-rl-base-py"
  },
  "language_info": {
   "codemirror_mode": {
    "name": "ipython",
    "version": 3
   },
   "file_extension": ".py",
   "mimetype": "text/x-python",
   "name": "python",
   "nbconvert_exporter": "python",
   "pygments_lexer": "ipython3",
   "version": "3.9.19"
  },
  "widgets": {
   "application/vnd.jupyter.widget-state+json": {
    "state": {},
    "version_major": 2,
    "version_minor": 0
   }
  }
 },
 "nbformat": 4,
 "nbformat_minor": 5
}
